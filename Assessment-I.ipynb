{
 "cells": [
  {
   "cell_type": "code",
   "execution_count": null,
   "metadata": {},
   "outputs": [],
   "source": [
    "                                                '''S GOKUL\n",
    "                                                205029106\n",
    "                                            I-M.Sc. CHEMISTRY-SF'''"
   ]
  },
  {
   "cell_type": "code",
   "execution_count": 5,
   "metadata": {},
   "outputs": [
    {
     "name": "stdout",
     "output_type": "stream",
     "text": [
      "First Name: abc\n",
      "Last Name: def\n",
      "abcdef\n",
      "fedcba\n"
     ]
    }
   ],
   "source": [
    "#31\n",
    "str1=input('First Name: ')\n",
    "str2=input('Last Name: ')\n",
    "str3=str1+str2\n",
    "print(str3)\n",
    "print(str3[::-1])"
   ]
  },
  {
   "cell_type": "code",
   "execution_count": 4,
   "metadata": {},
   "outputs": [
    {
     "name": "stdout",
     "output_type": "stream",
     "text": [
      "[1, 2, 3, 4, 5, 6, 7, 8, 9, 10] 55\n"
     ]
    }
   ],
   "source": [
    "#37\n",
    "x=[1,2,3,4,5,6,7,8,9,10]\n",
    "y=sum(x)\n",
    "print(x,y)"
   ]
  },
  {
   "cell_type": "code",
   "execution_count": 2,
   "metadata": {},
   "outputs": [
    {
     "name": "stdout",
     "output_type": "stream",
     "text": [
      "ENCYCLOPEDIA\n",
      "True\n",
      "True\n",
      "True\n"
     ]
    }
   ],
   "source": [
    "#38\n",
    "text='encyclopedia'\n",
    "#a\n",
    "print(text.upper())\n",
    "#b\n",
    "print(text.isalnum())\n",
    "#c\n",
    "print(text.islower())\n",
    "\n",
    "print(text.isalpha())"
   ]
  },
  {
   "cell_type": "code",
   "execution_count": 25,
   "metadata": {},
   "outputs": [
    {
     "name": "stdout",
     "output_type": "stream",
     "text": [
      "[('m1', 90), ('m2', 89), ('m3', 78)]\n"
     ]
    }
   ],
   "source": [
    "#36\n",
    "marks=[('m1',90),('m2',89),('m3',78)]\n",
    "print(marks)"
   ]
  },
  {
   "cell_type": "code",
   "execution_count": 26,
   "metadata": {},
   "outputs": [
    {
     "name": "stdout",
     "output_type": "stream",
     "text": [
      "apple\n"
     ]
    }
   ],
   "source": [
    "#35\n",
    "fruits=('apple','banana','cherry')\n",
    "print(fruits[0])"
   ]
  },
  {
   "cell_type": "code",
   "execution_count": 6,
   "metadata": {},
   "outputs": [
    {
     "name": "stdout",
     "output_type": "stream",
     "text": [
      "Enter Here: 45.9\n",
      "Enter Here: 34.0\n",
      "79.9\n"
     ]
    }
   ],
   "source": [
    "#32\n",
    "num1=float(input('Enter Here: '))\n",
    "num2=float(input('Enter Here: '))\n",
    "print(num1+num2)"
   ]
  },
  {
   "cell_type": "code",
   "execution_count": 8,
   "metadata": {},
   "outputs": [
    {
     "name": "stdout",
     "output_type": "stream",
     "text": [
      "Enter Here: z\n",
      "Constant\n"
     ]
    }
   ],
   "source": [
    "#33\n",
    "a='a','e','i','o','u'\n",
    "b=input('Enter Here: ')\n",
    "if b in a:\n",
    "    print('Vowel')\n",
    "else:\n",
    "    print('Constant')"
   ]
  },
  {
   "cell_type": "code",
   "execution_count": 4,
   "metadata": {},
   "outputs": [
    {
     "name": "stdout",
     "output_type": "stream",
     "text": [
      "Person1: chris\n",
      "Person2: tom\n",
      "Person3: holland\n",
      "Person4: sebastian\n",
      "Person5: stan lee\n"
     ]
    }
   ],
   "source": [
    "#39\n",
    "print=input('Person1: ')\n",
    "print=input('Person2: ')\n",
    "print=input('Person3: ')\n",
    "print=input('Person4: ')\n",
    "print=input('Person5: ')"
   ]
  },
  {
   "cell_type": "code",
   "execution_count": 3,
   "metadata": {},
   "outputs": [
    {
     "name": "stdout",
     "output_type": "stream",
     "text": [
      "Length:  6\n",
      "Data Type:  <class 'list'>\n"
     ]
    }
   ],
   "source": [
    "#34\n",
    "li=[1,2,3,4,5,6]\n",
    "#a\n",
    "print('Length: ',len(li))\n",
    "#b\n",
    "print('Data Type: ',type(li))"
   ]
  },
  {
   "cell_type": "code",
   "execution_count": null,
   "metadata": {},
   "outputs": [],
   "source": []
  }
 ],
 "metadata": {
  "kernelspec": {
   "display_name": "Python 3",
   "language": "python",
   "name": "python3"
  },
  "language_info": {
   "codemirror_mode": {
    "name": "ipython",
    "version": 3
   },
   "file_extension": ".py",
   "mimetype": "text/x-python",
   "name": "python",
   "nbconvert_exporter": "python",
   "pygments_lexer": "ipython3",
   "version": "3.8.5"
  }
 },
 "nbformat": 4,
 "nbformat_minor": 4
}
