{
 "cells": [
  {
   "cell_type": "code",
   "execution_count": null,
   "metadata": {},
   "outputs": [],
   "source": [
    "'''S GOKUL\n",
    "205209106\n",
    "I-M.SC.CHEMISTRY'''"
   ]
  },
  {
   "cell_type": "code",
   "execution_count": 14,
   "metadata": {},
   "outputs": [
    {
     "name": "stdout",
     "output_type": "stream",
     "text": [
      "0.7071067811865476\n",
      "0.9238795325112867\n",
      "0.7265425280053608\n"
     ]
    }
   ],
   "source": [
    "#1\n",
    "#a\n",
    "import math\n",
    "print(math.sin(math.pi/4))\n",
    "print(math.cos(math.pi/8))\n",
    "print(math.tan(math.pi/5))"
   ]
  },
  {
   "cell_type": "code",
   "execution_count": 15,
   "metadata": {},
   "outputs": [
    {
     "name": "stdout",
     "output_type": "stream",
     "text": [
      "23\n"
     ]
    }
   ],
   "source": [
    "#1\n",
    "#b\n",
    "def func(x,y):\n",
    "    return x+y\n",
    "print(func(16,7))"
   ]
  },
  {
   "cell_type": "code",
   "execution_count": 19,
   "metadata": {},
   "outputs": [
    {
     "name": "stdout",
     "output_type": "stream",
     "text": [
      "Enter Number: 10\n",
      "The sum of Natural numbers is 55\n"
     ]
    }
   ],
   "source": [
    "#1\n",
    "#c\n",
    "n=int(input('Enter Number: '))\n",
    "sum1=0\n",
    "while(n>0):\n",
    "    sum1=sum1+n\n",
    "    n=n-1\n",
    "print('The sum of Natural numbers is',sum1)"
   ]
  },
  {
   "cell_type": "code",
   "execution_count": 21,
   "metadata": {},
   "outputs": [
    {
     "name": "stdout",
     "output_type": "stream",
     "text": [
      "Average of list:  64.4\n"
     ]
    }
   ],
   "source": [
    "#2\n",
    "#a\n",
    "from statistics import mean\n",
    "def Average(list):\n",
    "    return mean(list)\n",
    "list=[23,54,76,89,80]\n",
    "average=Average(list)\n",
    "print('Average of list: ',round(average,2))"
   ]
  },
  {
   "cell_type": "code",
   "execution_count": 25,
   "metadata": {},
   "outputs": [
    {
     "name": "stdout",
     "output_type": "stream",
     "text": [
      "Match Not found!\n",
      "Match Found!\n"
     ]
    }
   ],
   "source": [
    "#5\n",
    "#a\n",
    "import re\n",
    "def text_match(text):\n",
    "    patterns='ab{2,3}'\n",
    "    if re.search(patterns, text):\n",
    "        return 'Match Found!'\n",
    "    else:\n",
    "        return 'Match Not found!'\n",
    "print(text_match('acsdvsvb'))\n",
    "print(text_match('aabbb'))"
   ]
  },
  {
   "cell_type": "code",
   "execution_count": 24,
   "metadata": {},
   "outputs": [
    {
     "name": "stdout",
     "output_type": "stream",
     "text": [
      "Match found\n",
      "Match Not found\n",
      "Match Not found\n"
     ]
    }
   ],
   "source": [
    "#5\n",
    "#b\n",
    "import re\n",
    "def text_match(text):\n",
    "    patterns='^[a-z]+_[a-z]+$'\n",
    "    if re.search(patterns, text):\n",
    "        return 'Match found'\n",
    "    else:\n",
    "        return 'Match Not found'\n",
    "print(text_match('aafvdfvb_cbbbcd'))\n",
    "print(text_match('ahbc_Ahfbveh'))\n",
    "print(text_match('dsdfsdfohu_DNFIU'))"
   ]
  },
  {
   "cell_type": "code",
   "execution_count": 27,
   "metadata": {},
   "outputs": [
    {
     "name": "stdout",
     "output_type": "stream",
     "text": [
      "Searching for \"fox\" in \"The quick brown fox jumps over the lazy dog.\" -->\n",
      "matched\n",
      "Searching for \"dog\" in \"The quick brown fox jumps over the lazy dog.\" -->\n",
      "matched\n",
      "Searching for \"horse\" in \"The quick brown fox jumps over the lazy dog.\" -->\n",
      "Not matched\n"
     ]
    }
   ],
   "source": [
    "#5\n",
    "#c\n",
    "import re\n",
    "patterns=['fox','dog','horse']\n",
    "text='The quick brown fox jumps over the lazy dog.'\n",
    "for pattern in patterns:\n",
    "    print('Searching for \"%s\" in \"%s\" -->' %(pattern,text))\n",
    "    if re.search(pattern,text):\n",
    "        print('matched')\n",
    "    else:\n",
    "        print('Not matched')"
   ]
  }
 ],
 "metadata": {
  "kernelspec": {
   "display_name": "Python 3",
   "language": "python",
   "name": "python3"
  },
  "language_info": {
   "codemirror_mode": {
    "name": "ipython",
    "version": 3
   },
   "file_extension": ".py",
   "mimetype": "text/x-python",
   "name": "python",
   "nbconvert_exporter": "python",
   "pygments_lexer": "ipython3",
   "version": "3.8.5"
  }
 },
 "nbformat": 4,
 "nbformat_minor": 4
}
