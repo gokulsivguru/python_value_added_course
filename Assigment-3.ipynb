{
 "cells": [
  {
   "cell_type": "code",
   "execution_count": null,
   "metadata": {},
   "outputs": [],
   "source": [
    "'''S GOKUL \n",
    "   205209106\n",
    "   I M.Sc. CHEMISTRY-SF'''"
   ]
  },
  {
   "cell_type": "code",
   "execution_count": 27,
   "metadata": {},
   "outputs": [
    {
     "name": "stdout",
     "output_type": "stream",
     "text": [
      "ENTER HERE: 2\n",
      "2\n",
      "ENTER HERE: 2\n",
      "4\n",
      "ENTER HERE: 3\n",
      "7\n",
      "ENTER HERE: 4\n",
      "11\n",
      "ENTER HERE: 5\n",
      "16\n",
      "ENTER HERE: 6\n",
      "22\n",
      "ENTER HERE: -1\n"
     ]
    }
   ],
   "source": [
    "sum=0\n",
    "while True:\n",
    "    num=int(input('ENTER HERE: '))\n",
    "    sum+=num\n",
    "    if num<0:\n",
    "        break\n",
    "    print(sum)"
   ]
  },
  {
   "cell_type": "code",
   "execution_count": 15,
   "metadata": {},
   "outputs": [
    {
     "name": "stdout",
     "output_type": "stream",
     "text": [
      "1 * 16 = 16\n",
      "2 * 16 = 32\n",
      "3 * 16 = 48\n",
      "4 * 16 = 64\n",
      "5 * 16 = 80\n",
      "6 * 16 = 96\n",
      "7 * 16 = 112\n",
      "8 * 16 = 128\n",
      "9 * 16 = 144\n",
      "10 * 16 = 160\n"
     ]
    }
   ],
   "source": [
    "n=16\n",
    "for i in range(1,11):\n",
    "    print(i,'*',n,'=',n*i)"
   ]
  },
  {
   "cell_type": "code",
   "execution_count": 18,
   "metadata": {},
   "outputs": [
    {
     "name": "stdout",
     "output_type": "stream",
     "text": [
      "ENTER NUMBER: 27\n",
      "27 is odd\n"
     ]
    }
   ],
   "source": [
    "a=int(input('ENTER NUMBER: '))\n",
    "if a%2==0:\n",
    "    print(a,'is even')\n",
    "else:\n",
    "    print(a,'is odd')"
   ]
  },
  {
   "cell_type": "code",
   "execution_count": 2,
   "metadata": {},
   "outputs": [
    {
     "name": "stdout",
     "output_type": "stream",
     "text": [
      "ENTER HERE: gokul25\n",
      "LETTERS:  5\n",
      "DIGITS:  2\n"
     ]
    }
   ],
   "source": [
    "s=input('ENTER HERE: ')\n",
    "d=l=0\n",
    "for c in s:\n",
    "    if c.isdigit():\n",
    "        d=d+1\n",
    "    elif c.isalpha():\n",
    "        l=l+1\n",
    "    else:\n",
    "        pass\n",
    "print('LETTERS: ',l)\n",
    "print('DIGITS: ',d)"
   ]
  }
 ],
 "metadata": {
  "kernelspec": {
   "display_name": "Python 3",
   "language": "python",
   "name": "python3"
  },
  "language_info": {
   "codemirror_mode": {
    "name": "ipython",
    "version": 3
   },
   "file_extension": ".py",
   "mimetype": "text/x-python",
   "name": "python",
   "nbconvert_exporter": "python",
   "pygments_lexer": "ipython3",
   "version": "3.8.5"
  }
 },
 "nbformat": 4,
 "nbformat_minor": 4
}
