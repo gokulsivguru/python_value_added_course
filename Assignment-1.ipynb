{
 "cells": [
  {
   "cell_type": "code",
   "execution_count": null,
   "metadata": {},
   "outputs": [],
   "source": [
    "'''S.GOKUL\n",
    "205209106\n",
    "I.M.Sc. CHMEISTRY'''"
   ]
  },
  {
   "cell_type": "code",
   "execution_count": 1,
   "metadata": {},
   "outputs": [
    {
     "name": "stdout",
     "output_type": "stream",
     "text": [
      "master\n"
     ]
    }
   ],
   "source": [
    "movie='master'\n",
    "print(movie)"
   ]
  },
  {
   "cell_type": "code",
   "execution_count": 2,
   "metadata": {},
   "outputs": [
    {
     "name": "stdout",
     "output_type": "stream",
     "text": [
      "Enter Your Name: S GOKUL\n",
      "Department: CHEMISTRY\n",
      "Adress: SALEM\n"
     ]
    }
   ],
   "source": [
    "print=input('Enter Your Name: ')\n",
    "print=input('Department: ')\n",
    "print=input('Adress: ')"
   ]
  },
  {
   "cell_type": "code",
   "execution_count": 1,
   "metadata": {},
   "outputs": [
    {
     "name": "stdout",
     "output_type": "stream",
     "text": [
      "I AM S.GOKUL from deparment CHEMISTRY in CHENNAI\n"
     ]
    }
   ],
   "source": [
    "name='S.GOKUL'\n",
    "deparment='CHEMISTRY'\n",
    "adress='CHENNAI'\n",
    "print(f'I AM {name} from deparment {deparment} in {adress}')"
   ]
  },
  {
   "cell_type": "code",
   "execution_count": 3,
   "metadata": {},
   "outputs": [
    {
     "name": "stdout",
     "output_type": "stream",
     "text": [
      "Enter Number: 56.897\n"
     ]
    }
   ],
   "source": [
    "print=float(input('Enter Number: '))"
   ]
  },
  {
   "cell_type": "code",
   "execution_count": 2,
   "metadata": {},
   "outputs": [
    {
     "name": "stdout",
     "output_type": "stream",
     "text": [
      "INDIA\n",
      "AUSTRALIA\n",
      "CANADA\n",
      "ENGLAND\n",
      "MEXICO\n"
     ]
    }
   ],
   "source": [
    "print('INDIA')\n",
    "print('AUSTRALIA')\n",
    "print('CANADA')\n",
    "print('ENGLAND')\n",
    "print('MEXICO')"
   ]
  },
  {
   "cell_type": "code",
   "execution_count": 1,
   "metadata": {},
   "outputs": [
    {
     "name": "stdout",
     "output_type": "stream",
     "text": [
      "CHINA INDIA RUSSIA AMERICA ARGENTINA\n"
     ]
    }
   ],
   "source": [
    "d='CHINA'\n",
    "e='INDIA'\n",
    "l='RUSSIA'\n",
    "g='AMERICA'\n",
    "h='ARGENTINA'\n",
    "print(d,e,l,g,h)"
   ]
  },
  {
   "cell_type": "code",
   "execution_count": 2,
   "metadata": {},
   "outputs": [
    {
     "name": "stdout",
     "output_type": "stream",
     "text": [
      "PYTHON PROGRAMMING 2021\n",
      "PYTHON 2021 PROGRAMMING\n"
     ]
    }
   ],
   "source": [
    "a='PYTHON'\n",
    "b='PROGRAMMING'\n",
    "c='2021'\n",
    "print(a,b,c)\n",
    "print(a,c,b)"
   ]
  },
  {
   "cell_type": "code",
   "execution_count": null,
   "metadata": {},
   "outputs": [],
   "source": []
  }
 ],
 "metadata": {
  "kernelspec": {
   "display_name": "Python 3",
   "language": "python",
   "name": "python3"
  },
  "language_info": {
   "codemirror_mode": {
    "name": "ipython",
    "version": 3
   },
   "file_extension": ".py",
   "mimetype": "text/x-python",
   "name": "python",
   "nbconvert_exporter": "python",
   "pygments_lexer": "ipython3",
   "version": "3.8.5"
  }
 },
 "nbformat": 4,
 "nbformat_minor": 4
}
