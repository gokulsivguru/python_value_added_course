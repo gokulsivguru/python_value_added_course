{
 "cells": [
  {
   "cell_type": "code",
   "execution_count": 94,
   "metadata": {},
   "outputs": [
    {
     "name": "stdout",
     "output_type": "stream",
     "text": [
      "ENTER HERE: 99999999\n",
      "99999999 is a digit\n"
     ]
    }
   ],
   "source": [
    "ch=input('ENTER HERE: ')\n",
    "if ch.isalpha():\n",
    "    print(ch,'is a character')\n",
    "elif ch.isdigit():\n",
    "    print(ch, 'is a digit')\n",
    "else:\n",
    "    print(ch,'is a symbol')"
   ]
  },
  {
   "cell_type": "code",
   "execution_count": 95,
   "metadata": {},
   "outputs": [
    {
     "name": "stdout",
     "output_type": "stream",
     "text": [
      "ENTER HERE: a\n",
      "VOWEL\n"
     ]
    }
   ],
   "source": [
    "a=input('ENTER HERE: ')\n",
    "b='A,a,E,e,I,i,O,o,U,u'\n",
    "if a in b:\n",
    "    print('VOWEL')\n",
    "else:\n",
    "    print('CONSONANT')"
   ]
  },
  {
   "cell_type": "code",
   "execution_count": 75,
   "metadata": {},
   "outputs": [
    {
     "name": "stdout",
     "output_type": "stream",
     "text": [
      "ENTER THE NUMBER: -5\n",
      "-5 is a negative number\n"
     ]
    }
   ],
   "source": [
    "num=int(input('ENTER THE NUMBER: '))\n",
    "if num>0:\n",
    "    print('{0} is a positive number'.format(num))\n",
    "elif num==0:\n",
    "    print('{0} is Zero'.format(num))\n",
    "else:\n",
    "    print('{0} is a negative number'.format(num))"
   ]
  },
  {
   "cell_type": "code",
   "execution_count": 72,
   "metadata": {},
   "outputs": [
    {
     "name": "stdout",
     "output_type": "stream",
     "text": [
      "Value of p= 268\n",
      "Value of X= 10.666666666666666\n"
     ]
    }
   ],
   "source": [
    "p=20*1+100*2+6*4+3*8\n",
    "X=(p-(118*2))/3\n",
    "print('Value of p=',p)\n",
    "print('Value of X=',X)"
   ]
  },
  {
   "cell_type": "code",
   "execution_count": 65,
   "metadata": {},
   "outputs": [
    {
     "name": "stdout",
     "output_type": "stream",
     "text": [
      "ENTER FIRST VALUE: 23\n",
      "ENTER SECOND VALUE: 56\n",
      "ADDITION:  79\n",
      "SUBTRACTION:  -33\n",
      "MULTIPLICATION:  1288\n",
      "DIVISION:  0.4107142857142857\n",
      "MODULUS:  23\n",
      "EXPONENTIAL:  18061708005752857061620870906539210750802836284237842525970767008798325863361\n",
      "FLOOR DIVISION:  0\n"
     ]
    }
   ],
   "source": [
    "c=int(input('ENTER FIRST VALUE: '))\n",
    "d=int(input('ENTER SECOND VALUE: '))\n",
    "add=c+d\n",
    "sub=c-d\n",
    "multi=c*d\n",
    "div=c/d\n",
    "mod=c%d\n",
    "exp=c**d\n",
    "fd=c//d\n",
    "print('ADDITION: ', add)\n",
    "print('SUBTRACTION: ', sub)\n",
    "print('MULTIPLICATION: ', multi)\n",
    "print('DIVISION: ', div)\n",
    "print('MODULUS: ', mod)\n",
    "print('EXPONENTIAL: ', exp)\n",
    "print('FLOOR DIVISION: ', fd)"
   ]
  },
  {
   "cell_type": "code",
   "execution_count": 62,
   "metadata": {},
   "outputs": [
    {
     "name": "stdout",
     "output_type": "stream",
     "text": [
      "ENTER FIRST VALUE: 20\n",
      "ENTER SECOND VALUE: 21\n",
      "False\n",
      "True\n",
      "False\n",
      "True\n"
     ]
    }
   ],
   "source": [
    "e=int(input('ENTER FIRST VALUE: '))\n",
    "f=int(input('ENTER SECOND VALUE: '))\n",
    "equal=e==f\n",
    "nequal=e!=f\n",
    "greater=e>=f\n",
    "lessthan=e<=f\n",
    "print(equal)\n",
    "print(nequal)\n",
    "print(greater)\n",
    "print(lessthan)\n"
   ]
  },
  {
   "cell_type": "code",
   "execution_count": 104,
   "metadata": {},
   "outputs": [
    {
     "name": "stdout",
     "output_type": "stream",
     "text": [
      "ENTER THE FIRST NUMBER: 21\n",
      "ENTER THE SECOND NUMBER: 3\n",
      "Log= 3.044522437723423\n",
      "Square Root= 4.58257569495584\n",
      "Ceil= 21\n",
      "Power= 9261.0\n",
      "Exponential= 1318815734.4832146\n"
     ]
    }
   ],
   "source": [
    "x=float(input('ENTER THE FIRST NUMBER: '))\n",
    "y=float(input('ENTER THE SECOND NUMBER: '))\n",
    "import math as m\n",
    "g=m.log(x)\n",
    "h=m.sqrt(x)\n",
    "j=m.ceil(x)\n",
    "k=m.pow(x,y)\n",
    "l=m.exp(x)\n",
    "print('Log=',g)\n",
    "print('Square Root=',h)\n",
    "print('Ceil=',j)\n",
    "print('Power=',k)\n",
    "print('Exponential=',l)"
   ]
  },
  {
   "cell_type": "code",
   "execution_count": 64,
   "metadata": {},
   "outputs": [
    {
     "name": "stdout",
     "output_type": "stream",
     "text": [
      "344.77\n",
      "567.124\n",
      "1.230e+07\n"
     ]
    }
   ],
   "source": [
    "z=344.767\n",
    "v=567.12367\n",
    "r=12300000\n",
    "print('{:.2f}'.format(z));\n",
    "print('{:.3f}'.format(v));\n",
    "print('{:.3e}'.format(r));"
   ]
  }
 ],
 "metadata": {
  "kernelspec": {
   "display_name": "Python 3",
   "language": "python",
   "name": "python3"
  },
  "language_info": {
   "codemirror_mode": {
    "name": "ipython",
    "version": 3
   },
   "file_extension": ".py",
   "mimetype": "text/x-python",
   "name": "python",
   "nbconvert_exporter": "python",
   "pygments_lexer": "ipython3",
   "version": "3.8.5"
  }
 },
 "nbformat": 4,
 "nbformat_minor": 4
}
