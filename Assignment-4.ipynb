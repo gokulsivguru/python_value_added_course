{
 "cells": [
  {
   "cell_type": "code",
   "execution_count": null,
   "metadata": {},
   "outputs": [],
   "source": [
    "'''S.GOKUL\n",
    "205209106\n",
    "I-M.Sc. CHEMISTRY-SF'''"
   ]
  },
  {
   "cell_type": "code",
   "execution_count": 3,
   "metadata": {},
   "outputs": [
    {
     "name": "stdout",
     "output_type": "stream",
     "text": [
      "['Ram', 'Chennai', 2017]\n",
      "['Ram', 'Chennai', 2017, 'CS']\n"
     ]
    }
   ],
   "source": [
    "#1\n",
    "stulist = ['Ram', 'Chennai', 2017]\n",
    "newlist = stulist+['CS']\n",
    "print (stulist)\n",
    "print (newlist)"
   ]
  },
  {
   "cell_type": "code",
   "execution_count": 4,
   "metadata": {},
   "outputs": [
    {
     "name": "stdout",
     "output_type": "stream",
     "text": [
      "Ram\n",
      "['Ram', 'Chennai', 2017]\n",
      "['Chennai', 2017]\n",
      "[]\n",
      "[]\n",
      "['Ram', 'Chennai', 2017]\n",
      "['Chennai', 2017]\n",
      "['Ram']\n",
      "['Chennai', 2017]\n"
     ]
    }
   ],
   "source": [
    "#2\n",
    "stulist = ['Ram','Chennai', 2017]\n",
    "print (stulist[0])\n",
    "print (stulist[:3])\n",
    "print (stulist[1:])\n",
    "print (stulist[1:1])\n",
    "print (stulist[5:2])\n",
    "print (stulist[:])\n",
    "print (stulist[-2:])\n",
    "print (stulist[:-2])\n",
    "print (stulist[1:3])"
   ]
  },
  {
   "cell_type": "code",
   "execution_count": 5,
   "metadata": {},
   "outputs": [
    {
     "name": "stdout",
     "output_type": "stream",
     "text": [
      "After Appending\n",
      "['Ram', 'Chennai', 2019, 'CS']\n"
     ]
    }
   ],
   "source": [
    "#3\n",
    "stulist=['Ram','Chennai',2019]\n",
    "stulist.append('CS')\n",
    "print ('After Appending')\n",
    "print (stulist)"
   ]
  },
  {
   "cell_type": "code",
   "execution_count": 6,
   "metadata": {},
   "outputs": [
    {
     "name": "stdout",
     "output_type": "stream",
     "text": [
      "Before Extend:  ['Ram', 'Chennai', 2017]\n",
      "After Extend :  ['Ram', 'Chennai', 2017, 'CS']\n"
     ]
    }
   ],
   "source": [
    "#4\n",
    "stulist=['Ram','Chennai',2017]\n",
    "dept=['CS']\n",
    "print ('Before Extend: ', stulist)\n",
    "stulist.extend(dept)\n",
    "print ('After Extend : ', stulist)"
   ]
  },
  {
   "cell_type": "code",
   "execution_count": 8,
   "metadata": {},
   "outputs": [
    {
     "name": "stdout",
     "output_type": "stream",
     "text": [
      "Index of Ram :  0\n",
      "Index of Chennai :  1\n",
      "Index of 2017 :  2\n"
     ]
    }
   ],
   "source": [
    "#5\n",
    "stulist = ['Ram', 'Chennai', 2017]\n",
    "print ('Index of Ram : ', stulist.index( 'Ram' ))\n",
    "print ('Index of Chennai : ', stulist.index( 'Chennai' ))\n",
    "print ('Index of 2017 : ', stulist.index(2017))"
   ]
  },
  {
   "cell_type": "code",
   "execution_count": 10,
   "metadata": {},
   "outputs": [
    {
     "name": "stdout",
     "output_type": "stream",
     "text": [
      "Before insert :  ['Ram', 'Chennai', 2017]\n",
      "After insert :  ['Ram', 'CSE', 'Chennai', 2017]\n"
     ]
    }
   ],
   "source": [
    "#6\n",
    "stulist = ['Ram', 'Chennai', 2017]\n",
    "print ('Before insert : ',stulist)\n",
    "stulist.insert(1, 'CSE')\n",
    "print ('After insert : ', stulist)"
   ]
  },
  {
   "cell_type": "code",
   "execution_count": 12,
   "metadata": {},
   "outputs": [
    {
     "name": "stdout",
     "output_type": "stream",
     "text": [
      "Initial list is:  ['Ram', 'Chennai', 2017, 'CSE', 92.7]\n",
      "Popping the last item:  92.7\n",
      "After popping the last item, the list is:  ['Ram', 'Chennai', 2017, 'CSE']\n"
     ]
    }
   ],
   "source": [
    "#7\n",
    "stulist=['Ram','Chennai',2017,'CSE',92.7]\n",
    "print ('Initial list is: ', stulist)\n",
    "print ('Popping the last item: ', stulist.pop())\n",
    "print ('After popping the last item, the list is: ', stulist)"
   ]
  },
  {
   "cell_type": "code",
   "execution_count": 14,
   "metadata": {},
   "outputs": [
    {
     "name": "stdout",
     "output_type": "stream",
     "text": [
      "Initial list is:  ['Ram', 'Chennai', 2017, 'CSE', 92.7]\n",
      "Popping an item wiht index 2:  2017\n",
      "Now the list is:  ['Ram', 'Chennai', 'CSE', 92.7]\n"
     ]
    }
   ],
   "source": [
    "#8\n",
    "stulist=['Ram','Chennai',2017,'CSE',92.7]\n",
    "print ('Initial list is: ', stulist)\n",
    "print ('Popping an item wiht index 2: ', stulist.pop(2))\n",
    "print ('Now the list is: ', stulist)"
   ]
  },
  {
   "cell_type": "code",
   "execution_count": 15,
   "metadata": {},
   "outputs": [
    {
     "name": "stdout",
     "output_type": "stream",
     "text": [
      "Initial list is :  ['Ram', 'Chennai', 2017, 'CSE', 92.7, 2017]\n",
      "After removing CSE from the list :  ['Ram', 'Chennai', 2017, 92.7, 2017]\n",
      "After removing 2017 from the list :  ['Ram', 'Chennai', 92.7, 2017]\n"
     ]
    }
   ],
   "source": [
    "#9\n",
    "stulist = ['Ram', 'Chennai', 2017, 'CSE', 92.7, 2017]\n",
    "print ('Initial list is : ', stulist)\n",
    "stulist.remove('CSE')\n",
    "print ('After removing CSE from the list : ', stulist)\n",
    "stulist.remove(2017)\n",
    "print ('After removing 2017 from the list : ', stulist)"
   ]
  },
  {
   "cell_type": "code",
   "execution_count": 16,
   "metadata": {},
   "outputs": [
    {
     "name": "stdout",
     "output_type": "stream",
     "text": [
      "Initial list is :  ['Ram', 'Chennai', 2017, 'CSE', 92.7]\n",
      "After reversing, the list is :  [92.7, 'CSE', 2017, 'Chennai', 'Ram']\n"
     ]
    }
   ],
   "source": [
    "#10\n",
    "stulist = ['Ram', 'Chennai', 2017, 'CSE', 92.7]\n",
    "print ('Initial list is : ', stulist)\n",
    "stulist.reverse()\n",
    "print ('After reversing, the list is : ', stulist)"
   ]
  },
  {
   "cell_type": "code",
   "execution_count": 17,
   "metadata": {},
   "outputs": [
    {
     "name": "stdout",
     "output_type": "stream",
     "text": [
      "efore sorting :  [6, 28, 11, 4, 20, 26, 13, 12]\n",
      "After sorting is :  [4, 6, 11, 12, 13, 20, 26, 28]\n"
     ]
    }
   ],
   "source": [
    "#11\n",
    "numlist = [6, 28, 11, 4, 20, 26, 13, 12]\n",
    "print ('efore sorting : ', numlist)\n",
    "numlist.sort()\n",
    "print ('After sorting is : ', numlist)"
   ]
  },
  {
   "cell_type": "code",
   "execution_count": 19,
   "metadata": {},
   "outputs": [
    {
     "name": "stdout",
     "output_type": "stream",
     "text": [
      "Before mutation:  ['Ram', 'Chennai', 2017]\n",
      "After mutation:  ['Priya', 'Chennai', 2017]\n"
     ]
    }
   ],
   "source": [
    "#12\n",
    "stulist = ['Ram', 'Chennai',2017]\n",
    "print ('Before mutation: ',stulist)\n",
    "stulist[0] = 'Priya'\n",
    "print ('After mutation: ', stulist)"
   ]
  },
  {
   "cell_type": "code",
   "execution_count": 24,
   "metadata": {},
   "outputs": [
    {
     "name": "stdout",
     "output_type": "stream",
     "text": [
      "tup1[0]:  C\n",
      "tup1[1]:  C++\n",
      "tup2[1:5]:  (2, 3, 4, 5)\n",
      "tup2[1:]:  (2, 3, 4, 5, 6, 7)\n",
      "tup3[0]:  a\n"
     ]
    }
   ],
   "source": [
    "#13\n",
    "t1 = ('C', 'C++', 'python', 1997,2000);\n",
    "t2 = (1, 2, 3, 4, 5, 6, 7 );\n",
    "t3= ('a', 'b', 'c', 'd','e')\n",
    "print ('tup1[0]: ', t1[0])\n",
    "print ('tup1[1]: ', t1[1])\n",
    "print ('tup2[1:5]: ', t2[1:5])\n",
    "print ('tup2[1:]: ', t2[1:])\n",
    "print ('tup3[0]: ',t3[0])"
   ]
  },
  {
   "cell_type": "code",
   "execution_count": 25,
   "metadata": {},
   "outputs": [
    {
     "name": "stdout",
     "output_type": "stream",
     "text": [
      "o\n",
      "6\n",
      "1\n"
     ]
    }
   ],
   "source": [
    "#14\n",
    "nest_tup = ('hello', [8, 4, 6], (1,2,3)) \n",
    "# nested index\n",
    "print(nest_tup[0][4])\n",
    "print(nest_tup[1][2])\n",
    "print(nest_tup[2][0])"
   ]
  }
 ],
 "metadata": {
  "kernelspec": {
   "display_name": "Python 3",
   "language": "python",
   "name": "python3"
  },
  "language_info": {
   "codemirror_mode": {
    "name": "ipython",
    "version": 3
   },
   "file_extension": ".py",
   "mimetype": "text/x-python",
   "name": "python",
   "nbconvert_exporter": "python",
   "pygments_lexer": "ipython3",
   "version": "3.8.5"
  }
 },
 "nbformat": 4,
 "nbformat_minor": 4
}
